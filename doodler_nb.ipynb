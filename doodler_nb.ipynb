{
 "cells": [
  {
   "cell_type": "markdown",
   "metadata": {},
   "source": [
    "# Doodler"
   ]
  },
  {
   "cell_type": "markdown",
   "metadata": {},
   "source": [
    "This notebook shows how the `Doodler` application can be built on top of the tools provided by the Holoviz ecosystem. Small components are built successively to add functionality to the application. They are put together in a main class and finally organized in the desired layouts, one for testing directly in the notebook and one that is meant to be deployed."
   ]
  },
  {
   "cell_type": "code",
   "execution_count": null,
   "metadata": {},
   "outputs": [],
   "source": [
    "import configparser\n",
    "\n",
    "import holoviews as hv\n",
    "import panel as pn\n",
    "\n",
    "# Import the components\n",
    "from doodler.components import (\n",
    "    Application,\n",
    "    ClassToggleGroup,\n",
    "    ComputationSettings,\n",
    "    DoodleDrawer,\n",
    "    Info,\n",
    "    InputImage,\n",
    "    Toggle,\n",
    ")"
   ]
  },
  {
   "cell_type": "markdown",
   "metadata": {},
   "source": [
    "## Configuration"
   ]
  },
  {
   "cell_type": "markdown",
   "metadata": {},
   "source": [
    "The class/color mapping is obtained from an INI file."
   ]
  },
  {
   "cell_type": "code",
   "execution_count": null,
   "metadata": {},
   "outputs": [],
   "source": [
    "config = configparser.ConfigParser()\n",
    "config.read('config.ini')\n",
    "CLASS_COLOR_MAPPING = dict(config['classes'])\n",
    "CLASS_COLOR_MAPPING"
   ]
  },
  {
   "cell_type": "markdown",
   "metadata": {},
   "source": [
    "## Components\n",
    "\n",
    "### Class toggle group\n",
    "\n",
    "The `ClassToggleGroup` component allows to toggle a class by clicking on its colorized button. The advantage of this component is that the buttons are layed out in a flexible container that wraps them line by line responsively.\n",
    "\n",
    "We first define an `Toggle` component that represents a button of the `ClassToggleGroup` component."
   ]
  },
  {
   "cell_type": "code",
   "execution_count": null,
   "metadata": {},
   "outputs": [],
   "source": [
    "t = Toggle(klass='water', color='blue')\n",
    "t"
   ]
  },
  {
   "cell_type": "code",
   "execution_count": null,
   "metadata": {},
   "outputs": [],
   "source": [
    "t.active = True"
   ]
  },
  {
   "cell_type": "code",
   "execution_count": null,
   "metadata": {},
   "outputs": [],
   "source": [
    "t.active = False"
   ]
  },
  {
   "cell_type": "code",
   "execution_count": null,
   "metadata": {},
   "outputs": [],
   "source": [
    "ctg = ClassToggleGroup(class_color_mapping=CLASS_COLOR_MAPPING)\n",
    "ctg"
   ]
  },
  {
   "cell_type": "markdown",
   "metadata": {},
   "source": [
    "The `active` parameter stores the currently toggled class."
   ]
  },
  {
   "cell_type": "code",
   "execution_count": null,
   "metadata": {},
   "outputs": [],
   "source": [
    "ctg.active"
   ]
  },
  {
   "cell_type": "markdown",
   "metadata": {},
   "source": [
    "### DoodleDrawer\n",
    "\n",
    "The `DoodleDrawer` class provides the drawing functionality required for `Doodler`, i.e. the ability to quickly draw lines with different class/color and width. Its `doodles` property allows to obtain the lines drawn as a list of pandas dataframes."
   ]
  },
  {
   "cell_type": "code",
   "execution_count": null,
   "metadata": {},
   "outputs": [],
   "source": [
    "doodle_drawer = DoodleDrawer(class_color_mapping=CLASS_COLOR_MAPPING, class_toggle_group_type=ClassToggleGroup)"
   ]
  },
  {
   "cell_type": "code",
   "execution_count": null,
   "metadata": {},
   "outputs": [],
   "source": [
    "pn.Row(\n",
    "    pn.Column(\n",
    "        doodle_drawer.class_toggle_group,\n",
    "        doodle_drawer.param.line_width,\n",
    "        doodle_drawer.param.clear_all,\n",
    "    ),\n",
    "    doodle_drawer.plot.opts(width=600),\n",
    ")"
   ]
  },
  {
   "cell_type": "code",
   "execution_count": null,
   "metadata": {},
   "outputs": [],
   "source": [
    "len(doodle_drawer.doodles)"
   ]
  },
  {
   "cell_type": "code",
   "execution_count": null,
   "metadata": {},
   "outputs": [],
   "source": [
    "try:\n",
    "    print(doodle_drawer.doodles[0].head())\n",
    "except IndexError:\n",
    "    pass"
   ]
  },
  {
   "cell_type": "markdown",
   "metadata": {},
   "source": [
    "### Input image\n",
    "\n",
    "The `InputImage` component allows a user to select an image. An instance can be created with the `from_folder` class method that will find all the JPEG images in a folder. The `remove_img` method removes the current image from the list of images available and sets the next one, if available."
   ]
  },
  {
   "cell_type": "code",
   "execution_count": null,
   "metadata": {},
   "outputs": [],
   "source": [
    "input_image = InputImage.from_folder('examples/images')"
   ]
  },
  {
   "cell_type": "code",
   "execution_count": null,
   "metadata": {},
   "outputs": [],
   "source": [
    "pn.Row(input_image.param, input_image.pane)"
   ]
  },
  {
   "cell_type": "code",
   "execution_count": null,
   "metadata": {},
   "outputs": [],
   "source": [
    "input_image.remove_img()"
   ]
  },
  {
   "cell_type": "code",
   "execution_count": null,
   "metadata": {},
   "outputs": [],
   "source": [
    "input_image.remove_img()"
   ]
  },
  {
   "cell_type": "code",
   "execution_count": null,
   "metadata": {},
   "outputs": [],
   "source": [
    "input_image.remove_img()"
   ]
  },
  {
   "cell_type": "code",
   "execution_count": null,
   "metadata": {},
   "outputs": [],
   "source": [
    "input_image.remove_img()"
   ]
  },
  {
   "cell_type": "markdown",
   "metadata": {},
   "source": [
    "### Computation settings\n",
    "\n",
    "The `ComputationSettings` class declares all the parameters required by the algorithms perfoming the segmentation. UI-wise it provides the ability to switch to an *advanced* mode that displays more parameters to the user."
   ]
  },
  {
   "cell_type": "code",
   "execution_count": null,
   "metadata": {},
   "outputs": [],
   "source": [
    "cs = ComputationSettings()\n",
    "cs"
   ]
  },
  {
   "cell_type": "markdown",
   "metadata": {},
   "source": [
    "The `as_dict` method is useful to get the values of all the parameters."
   ]
  },
  {
   "cell_type": "code",
   "execution_count": null,
   "metadata": {},
   "outputs": [],
   "source": [
    "cs.as_dict()"
   ]
  },
  {
   "cell_type": "markdown",
   "metadata": {},
   "source": [
    "### Info\n",
    "\n",
    "The `Info` class renders as an *Alert* viewable component that is useful to show messages of different types to the user."
   ]
  },
  {
   "cell_type": "code",
   "execution_count": null,
   "metadata": {},
   "outputs": [],
   "source": [
    "i = Info()\n",
    "i"
   ]
  },
  {
   "cell_type": "code",
   "execution_count": null,
   "metadata": {},
   "outputs": [],
   "source": [
    "i.update('first line', 'warning')"
   ]
  },
  {
   "cell_type": "code",
   "execution_count": null,
   "metadata": {},
   "outputs": [],
   "source": [
    "i.add('another line')"
   ]
  },
  {
   "cell_type": "code",
   "execution_count": null,
   "metadata": {},
   "outputs": [],
   "source": [
    "i.reset()"
   ]
  },
  {
   "cell_type": "markdown",
   "metadata": {},
   "source": [
    "## Combining the components with the segmentation computation\n",
    "\n",
    "The `Application` class uses and combines the components introduced above with components and methods dedicated to the segmentation itself, that call the learning algorithms."
   ]
  },
  {
   "cell_type": "markdown",
   "metadata": {},
   "source": [
    "The different components are instantiated and passed to `Application`."
   ]
  },
  {
   "cell_type": "code",
   "execution_count": null,
   "metadata": {},
   "outputs": [],
   "source": [
    "doodle_drawer = DoodleDrawer(class_color_mapping=CLASS_COLOR_MAPPING, class_toggle_group_type=ClassToggleGroup)\n",
    "input_image = InputImage.from_folder('examples/images')\n",
    "settings = ComputationSettings(name='Post-processing/Classifier settings')\n",
    "info = Info()\n",
    "app = Application(settings=settings, doodle_drawer=doodle_drawer, info=info, input_image=input_image)"
   ]
  },
  {
   "cell_type": "markdown",
   "metadata": {},
   "source": [
    "## Layout\n",
    "\n",
    "### Notebook application\n",
    "\n",
    "First a simple application is put together in the notebook by laying out the components in `Row` and `Column` Panel panes. This step is very useful when developing the application."
   ]
  },
  {
   "cell_type": "code",
   "execution_count": null,
   "metadata": {},
   "outputs": [],
   "source": [
    "side_bar = pn.Column(\n",
    "    app.input_image.param.location,\n",
    "    pn.pane.HTML('<b>Doodling options</b>'),\n",
    "    app.doodle_drawer.class_toggle_group,\n",
    "    app.doodle_drawer.param.line_width,\n",
    "    app.doodle_drawer.param.clear_all,\n",
    "    app.settings,\n",
    "    pn.widgets.Button.from_param(app.param.compute_segmentation, button_type='primary'),\n",
    "    pn.widgets.Button.from_param(app.param.clear_segmentation, button_type='warning'),\n",
    "    pn.widgets.Button.from_param(app.param.save_segmentation, button_type='success'),\n",
    "    app.info,\n",
    "    width=350,  # Width set to avoid issues with the class FlexBox. Slightly less than the side_bar width of the Material template (370).\n",
    ")\n",
    "main = app.plot_pane\n",
    "nb_app = pn.Row(side_bar, main)\n",
    "nb_app"
   ]
  },
  {
   "cell_type": "markdown",
   "metadata": {},
   "source": [
    "## Deployable application\n",
    "\n",
    "While the notebook application already provides all the functionnality we require, its design should be improved a little to make it a proper web app. We're embedding it into one of the templates provided by Panel and add a few elements like the USGS logo. Serve the application by running `panel serve doodler.ipynb --show`."
   ]
  },
  {
   "cell_type": "code",
   "execution_count": null,
   "metadata": {},
   "outputs": [],
   "source": [
    "template = pn.template.MaterialTemplate(\n",
    "    title='Doodler',\n",
    "    logo='assets/1280px-USGS_logo.png',\n",
    "    header_background='#000000',\n",
    "    sidebar=[side_bar],\n",
    "    main=[main],\n",
    ")\n",
    "template.servable();"
   ]
  }
 ],
 "metadata": {
  "language_info": {
   "name": "python",
   "pygments_lexer": "ipython3"
  }
 },
 "nbformat": 4,
 "nbformat_minor": 5
}
